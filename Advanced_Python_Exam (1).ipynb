{
 "cells": [
  {
   "cell_type": "markdown",
   "id": "899deb7d",
   "metadata": {},
   "source": [
    "\n",
    "# **Examen Avancé en Python**\n",
    "\n",
    "---\n",
    "### **Instructions :**\n",
    "- Lisez chaque question attentivement.\n",
    "- Fournissez vos réponses dans les cellules de code prévues.\n",
    "- Sauvegardez régulièrement votre travail.\n",
    "---\n"
   ]
  },
  {
   "cell_type": "markdown",
   "id": "d6ac65ce",
   "metadata": {},
   "source": [
    "\n",
    "## **Question 1: Importation des bibliothèques nécessaires**\n",
    "Importez les bibliothèques nécessaires pour :\n",
    "- Manipuler des fichiers JSON et XML\n",
    "- Télécharger des fichiers depuis une URL\n",
    "\n",
    "### Code :"
   ]
  },
  {
   "cell_type": "code",
   "execution_count": null,
   "id": "330f2f52",
   "metadata": {},
   "outputs": [],
   "source": [
    "# Écrivez votre code ici\n"
   ]
  },
  {
   "cell_type": "markdown",
   "id": "a84dbe18",
   "metadata": {},
   "source": [
    "\n",
    "## **Question 2: Téléchargement de données JSON**\n",
    "Téléchargez le fichier JSON depuis l'URL suivante :  \n",
    "`https://jsonplaceholder.typicode.com/users`  \n",
    "\n",
    "- Chargez les données dans une variable Python.\n",
    "- Affichez les noms et emails de chaque utilisateur sous cette forme :  \n",
    "**Nom: Leanne Graham, Email: Sincere@april.biz**  \n",
    "\n",
    "### Code :"
   ]
  },
  {
   "cell_type": "code",
   "execution_count": null,
   "id": "9b194295",
   "metadata": {},
   "outputs": [],
   "source": [
    "# Écrivez votre code ici\n"
   ]
  },
  {
   "cell_type": "markdown",
   "id": "dc72a911",
   "metadata": {},
   "source": [
    "\n",
    "## **Question 3: Extraction avancée de JSON**\n",
    "En utilisant les données JSON de la **Question 2** :  \n",
    "1. Trouvez et affichez uniquement les utilisateurs dont la ville est **Gwenborough**.  \n",
    "2. Créez une nouvelle liste contenant les coordonnées géographiques  \n",
    "   sous la forme `[(lat1, lng1), (lat2, lng2), ...]`.\n",
    "\n",
    "### Code :"
   ]
  },
  {
   "cell_type": "code",
   "execution_count": null,
   "id": "c7fa0aec",
   "metadata": {},
   "outputs": [],
   "source": [
    "# Écrivez votre code ici\n"
   ]
  },
  {
   "cell_type": "markdown",
   "id": "88937b14",
   "metadata": {},
   "source": [
    "\n",
    "## **Question 4: Téléchargement de données XML**\n",
    "Téléchargez le fichier XML depuis l'URL suivante :  \n",
    "`https://www.w3schools.com/xml/plant_catalog.xml`  \n",
    "\n",
    "- Affichez uniquement les noms (**COMMON**) et prix (**PRICE**) des plantes sous cette forme :  \n",
    "  **Plante: Bloodroot, Prix: $2.44**  \n",
    "\n",
    "### Code :"
   ]
  },
  {
   "cell_type": "code",
   "execution_count": null,
   "id": "6254f047",
   "metadata": {},
   "outputs": [],
   "source": [
    "# Écrivez votre code ici\n"
   ]
  },
  {
   "cell_type": "markdown",
   "id": "02d18170",
   "metadata": {},
   "source": [
    "\n",
    "## **Question 5: Parsing avancé de XML**\n",
    "En utilisant les données XML de la **Question 4** :  \n",
    "1. Affichez toutes les plantes dont le prix est supérieur à **$5.00**.  \n",
    "2. Créez une liste contenant les noms de plantes classées par **ZONE**.\n",
    "\n",
    "### Code :"
   ]
  },
  {
   "cell_type": "code",
   "execution_count": null,
   "id": "97fa1adb",
   "metadata": {},
   "outputs": [],
   "source": [
    "# Écrivez votre code ici\n"
   ]
  },
  {
   "cell_type": "markdown",
   "id": "565cef36",
   "metadata": {},
   "source": [
    "\n",
    "## **Question 6: Analyse combinée**\n",
    "1. Téléchargez le fichier JSON depuis :  \n",
    "   `https://jsonplaceholder.typicode.com/posts`  \n",
    "2. Comptez combien de posts sont associés à l'utilisateur ayant un **ID** de `1`.  \n",
    "3. Fusionnez (merge) les données JSON et XML téléchargées, et affichez-les sous forme de **DataFrame Pandas**.\n",
    "\n",
    "### Code :"
   ]
  },
  {
   "cell_type": "code",
   "execution_count": null,
   "id": "8f8850e5",
   "metadata": {},
   "outputs": [],
   "source": [
    "# Écrivez votre code ici\n"
   ]
  },
  {
   "cell_type": "markdown",
   "id": "d3989b6a",
   "metadata": {},
   "source": [
    "\n",
    "## **Question 7: Déployer avec Streamlit**\n",
    "1. Créez un script Python (`.py`) qui :  \n",
    "   - Lit les données JSON depuis `https://jsonplaceholder.typicode.com/users`\n",
    "   - Ajoute vous-mêmes et deux utilisateurs fictifs avec les coordonnées géographiques\n",
    "   - Affiche une interface interactive pour rechercher des utilisateurs par ville ou nom  \n",
    "   - Affiche les coordonnées géographiques de l'utilisateur sélectionné sur une carte  \n",
    "\n",
    "2. Indiquez les étapes pour exécuter l'application avec **Streamlit**.\n",
    "\n",
    "### Code :"
   ]
  },
  {
   "cell_type": "code",
   "execution_count": null,
   "id": "e9a118a6",
   "metadata": {},
   "outputs": [],
   "source": [
    "# Écrivez votre code ici\n"
   ]
  },
  {
   "cell_type": "markdown",
   "id": "fcc3c173",
   "metadata": {},
   "source": [
    "## **Question 8: Version online**\n",
    "1. Déployez votre application en ligne et partagez l'adresse.(ex. abcd.streamlit.app)\n",
    "\n",
    "### L'adresse :"
   ]
  },
  {
   "cell_type": "code",
   "execution_count": null,
   "id": "82cd65d4",
   "metadata": {},
   "outputs": [],
   "source": []
  }
 ],
 "metadata": {
  "kernelspec": {
   "display_name": "Python 3",
   "language": "python",
   "name": "python3"
  },
  "language_info": {
   "codemirror_mode": {
    "name": "ipython",
    "version": 3
   },
   "file_extension": ".py",
   "mimetype": "text/x-python",
   "name": "python",
   "nbconvert_exporter": "python",
   "pygments_lexer": "ipython3",
   "version": "3.9.16"
  },
  "toc": {
   "base_numbering": 1,
   "nav_menu": {},
   "number_sections": true,
   "sideBar": true,
   "skip_h1_title": false,
   "title_cell": "Table of Contents",
   "title_sidebar": "Contents",
   "toc_cell": false,
   "toc_position": {},
   "toc_section_display": true,
   "toc_window_display": false
  }
 },
 "nbformat": 4,
 "nbformat_minor": 5
}
